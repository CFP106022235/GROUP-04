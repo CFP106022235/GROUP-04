{
 "cells": [
  {
   "cell_type": "code",
   "execution_count": 80,
   "metadata": {},
   "outputs": [
    {
     "name": "stdout",
     "output_type": "stream",
     "text": [
      "True\n"
     ]
    }
   ],
   "source": [
    "import math\n",
    "from sympy import *\n",
    "\n",
    "def sol(a, b, m):\n",
    "    if m>=0:\n",
    "        dic = solve([cir1, y-m*(x-a)+b], [x,y])\n",
    "        return dic\n",
    "        \n",
    "    else :\n",
    "        dic = solve([cir2, y-m*(x-a)+b], [x,y])\n",
    "        return dic\n",
    "    \n",
    "def check(a, b, c, d) :\n",
    "    theta = math.acos((c*(c-a)+d*(d-b))/(sqrt(c**2+d**2) * sqrt((c-a)**2 + (d-b)**2)))\n",
    "    if theta >= critheta :\n",
    "        return True\n",
    "    else :\n",
    "        return False\n",
    "\n",
    "\n",
    "x = Symbol('x')\n",
    "y = Symbol('y')\n",
    "\n",
    "#user define\n",
    "r1 = 2\n",
    "r2 = 1\n",
    "n1 = 1.48\n",
    "n2 = 1.46\n",
    "\n",
    "\n",
    "critheta = math.asin(n2/n1)\n",
    "cir1 = y-sqrt(r1**2-x**2)\n",
    "cir2 = y-sqrt(r2**2-x**2)\n",
    "\n",
    "a = 0\n",
    "b = 1.5\n",
    "m = 1\n",
    "\n",
    "sol(a, b, m)\n",
    "c = sol(a, b, m)[0][0]\n",
    "d = sol(a, b, m)[0][1]\n",
    "print(check(a, b, c, d))\n",
    "\n",
    "\n"
   ]
  },
  {
   "cell_type": "code",
   "execution_count": 50,
   "metadata": {},
   "outputs": [
    {
     "name": "stdout",
     "output_type": "stream",
     "text": [
      "{x: 1, y: 1}\n"
     ]
    }
   ],
   "source": [
    "from sympy import *\n",
    "x = Symbol('x')\n",
    "y = Symbol('y')\n",
    "cir1 = x*2 + y*2 - 2*2\n",
    "cir2 = x*2 + y*2 - 2*2\n",
    "a = solve([cir1, y-x], [x,y])\n",
    "print(a)"
   ]
  },
  {
   "cell_type": "code",
   "execution_count": null,
   "metadata": {},
   "outputs": [],
   "source": []
  }
 ],
 "metadata": {
  "kernelspec": {
   "display_name": "Python 3",
   "language": "python",
   "name": "python3"
  },
  "language_info": {
   "codemirror_mode": {
    "name": "ipython",
    "version": 3
   },
   "file_extension": ".py",
   "mimetype": "text/x-python",
   "name": "python",
   "nbconvert_exporter": "python",
   "pygments_lexer": "ipython3",
   "version": "3.7.1"
  }
 },
 "nbformat": 4,
 "nbformat_minor": 2
}
