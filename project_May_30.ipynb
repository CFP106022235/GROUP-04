{
 "cells": [
  {
   "cell_type": "code",
   "execution_count": 123,
   "metadata": {},
   "outputs": [
    {
     "name": "stdout",
     "output_type": "stream",
     "text": [
      "[(-1.76099845646052, 0.948095162071645), (1.52566302954230, 1.29319461810194)]\n"
     ]
    }
   ],
   "source": [
    "a = solve([cir1, y-0.105*(x)-1.133], [x,y])\n",
    "print(a)"
   ]
  },
  {
   "cell_type": "code",
   "execution_count": 53,
   "metadata": {},
   "outputs": [
    {
     "ename": "NameError",
     "evalue": "name 'loc' is not defined",
     "output_type": "error",
     "traceback": [
      "\u001b[1;31m---------------------------------------------------------------------------\u001b[0m",
      "\u001b[1;31mNameError\u001b[0m                                 Traceback (most recent call last)",
      "\u001b[1;32m<ipython-input-53-a7935548b309>\u001b[0m in \u001b[0;36m<module>\u001b[1;34m\u001b[0m\n\u001b[0;32m    133\u001b[0m         \u001b[0mreal_sol\u001b[0m \u001b[1;33m=\u001b[0m \u001b[1;33m[\u001b[0m\u001b[1;33m]\u001b[0m\u001b[1;33m\u001b[0m\u001b[1;33m\u001b[0m\u001b[0m\n\u001b[0;32m    134\u001b[0m         \u001b[1;32mif\u001b[0m \u001b[1;33m(\u001b[0m\u001b[0msol_aft\u001b[0m\u001b[1;33m(\u001b[0m\u001b[0ma\u001b[0m\u001b[1;33m,\u001b[0m \u001b[0mb\u001b[0m\u001b[1;33m,\u001b[0m \u001b[0mm\u001b[0m\u001b[1;33m,\u001b[0m \u001b[0mcal_m_bd\u001b[0m\u001b[1;33m(\u001b[0m\u001b[0mc\u001b[0m\u001b[1;33m,\u001b[0m \u001b[0md\u001b[0m\u001b[1;33m,\u001b[0m \u001b[0mm\u001b[0m\u001b[1;33m)\u001b[0m\u001b[1;33m[\u001b[0m\u001b[1;36m0\u001b[0m\u001b[1;33m]\u001b[0m\u001b[1;33m,\u001b[0m \u001b[0mcal_m_bd\u001b[0m\u001b[1;33m(\u001b[0m\u001b[0mc\u001b[0m\u001b[1;33m,\u001b[0m \u001b[0md\u001b[0m\u001b[1;33m,\u001b[0m \u001b[0mm\u001b[0m\u001b[1;33m)\u001b[0m\u001b[1;33m[\u001b[0m\u001b[1;36m1\u001b[0m\u001b[1;33m]\u001b[0m\u001b[1;33m)\u001b[0m \u001b[1;33m==\u001b[0m \u001b[1;36m1\u001b[0m\u001b[1;33m)\u001b[0m \u001b[1;33m:\u001b[0m\u001b[1;33m\u001b[0m\u001b[1;33m\u001b[0m\u001b[0m\n\u001b[1;32m--> 135\u001b[1;33m                 \u001b[0mc\u001b[0m \u001b[1;33m=\u001b[0m \u001b[0mreal_sol\u001b[0m\u001b[1;33m[\u001b[0m\u001b[1;36m0\u001b[0m\u001b[1;33m]\u001b[0m\u001b[1;33m[\u001b[0m\u001b[0mloc\u001b[0m\u001b[1;33m(\u001b[0m\u001b[0mx\u001b[0m\u001b[1;33m)\u001b[0m\u001b[1;33m]\u001b[0m\u001b[1;33m\u001b[0m\u001b[1;33m\u001b[0m\u001b[0m\n\u001b[0m\u001b[0;32m    136\u001b[0m                 \u001b[0md\u001b[0m \u001b[1;33m=\u001b[0m \u001b[0mreal_sol\u001b[0m\u001b[1;33m[\u001b[0m\u001b[1;36m0\u001b[0m\u001b[1;33m]\u001b[0m\u001b[1;33m[\u001b[0m\u001b[0mloc\u001b[0m\u001b[1;33m(\u001b[0m\u001b[0my\u001b[0m\u001b[1;33m)\u001b[0m\u001b[1;33m]\u001b[0m\u001b[1;33m\u001b[0m\u001b[1;33m\u001b[0m\u001b[0m\n\u001b[0;32m    137\u001b[0m                 \u001b[0mplt\u001b[0m\u001b[1;33m.\u001b[0m\u001b[0mplot\u001b[0m\u001b[1;33m(\u001b[0m\u001b[1;33m(\u001b[0m\u001b[0ma\u001b[0m\u001b[1;33m,\u001b[0m \u001b[0mb\u001b[0m\u001b[1;33m)\u001b[0m\u001b[1;33m,\u001b[0m \u001b[1;33m(\u001b[0m\u001b[0mc\u001b[0m\u001b[1;33m,\u001b[0m \u001b[0md\u001b[0m\u001b[1;33m)\u001b[0m\u001b[1;33m)\u001b[0m\u001b[1;33m\u001b[0m\u001b[1;33m\u001b[0m\u001b[0m\n",
      "\u001b[1;31mNameError\u001b[0m: name 'loc' is not defined"
     ]
    },
    {
     "data": {
      "image/png": "[encoded data removed]",
      "text/plain": [
       "<Figure size 432x288 with 1 Axes>"
      ]
     },
     "metadata": {
      "needs_background": "light"
     },
     "output_type": "display_data"
    }
   ],
   "source": [
    "import math\n",
    "from sympy import *\n",
    "import matplotlib.pyplot as plt\n",
    "\n",
    "def sol(a, b, m):\n",
    "    if m > (-b/r2) :\n",
    "        dic = solve([cir2, y-m*(x-a)-b], [x,y], dict = True)\n",
    "        for i in range(0, len(dic)):\n",
    "            if (dic[i][x] > 0 and dic[i][y] > 0):\n",
    "                real_sol.append(dic[i])\n",
    "                break\n",
    "        return 0\n",
    "    \n",
    "    elif m < -sqrt((b/r1)**2 - 1) :\n",
    "        dic = solve([cir1, y-m*(x-a)-b], [x,y], dict = True)\n",
    "        for i in range(0, len(dic)):\n",
    "            if (dic[i][x] > 0 and dic[i][y] > 0):\n",
    "                real_sol.append(dic[i])\n",
    "                break\n",
    "        return 0\n",
    "\n",
    "    else :\n",
    "        dic = solve([y, y-m*(x-a)-b], [x,y], dict = True)\n",
    "        real_sol.append(dic)\n",
    "        return 1\n",
    "            \n",
    "    \n",
    "def check(a, b, c, d) :\n",
    "    theta = math.acos((c*(c-a)+d*(d-b))/(sqrt(c**2+d**2) * sqrt((c-a)**2 + (d-b)**2)))\n",
    "    #print(theta)\n",
    "    if theta >= critheta :\n",
    "        return True\n",
    "    else :\n",
    "        return False\n",
    "\n",
    "def before_cir():\n",
    "\n",
    "    x=(L-(w/2)*(1/math.tan(math.radians(ina))))%(w*(1/math.tan(math.radians(ina))))#lastpath\n",
    "    num=(L-(w/2)*(1/math.tan(math.radians(ina))))//(w*(1/math.tan(math.radians(ina))))#reflection number\n",
    "    if num%2==1:\n",
    "        x=(L-(w/2)*(1/math.tan(math.radians(ina))))%(w*(1/math.tan(math.radians(ina))))#lastpath\n",
    "        y=x*math.tan(math.radians(ina))\n",
    "        m=math.tan(math.radians(ina))\n",
    "        return (0, y+r2, m)\n",
    "    else:\n",
    "        x=(L-(w/2)*(1/math.tan(math.radians(ina))))%(w*(1/math.tan(math.radians(ina))))#lastpath\n",
    "        y=w-(x*math.tan(math.radians(ina)))\n",
    "        m=-math.tan(math.radians(ina))\n",
    "        return (0, y+r2, m)\n",
    "\n",
    "def cal_m_bd(c, d, m) :\n",
    "    if (c**2 + d**2 == r2**2):\n",
    "        m2 = -d/(r2-c)\n",
    "        tmp = solve([x**2 + y**2 - r1**2, (y-d)/(x-c) + x/y], [x,y], dict = True)\n",
    "        for i in range(0, len(tmp)):\n",
    "            if (tmp[i][x] > 0 and tmp[i][y] > 0):\n",
    "                m_t = (d-tmp[i][y])/(c - tmp[i][x])\n",
    "                m_s = d/(c-r1)\n",
    "                if (m_t > m_s): \n",
    "                    return (m_t, m2)\n",
    "                else :\n",
    "                    return (m_s, m2)\n",
    "        m_s = d/(c-r1)\n",
    "        return(m_s, m2)\n",
    "    else :\n",
    "        m_t = -c/d\n",
    "        m_s = -d/(r2-c)\n",
    "        if (m_t < m_s):\n",
    "            return (m_t, m_s)\n",
    "        else:\n",
    "            return (m_t, 99999)\n",
    "\n",
    "def sol_aft(a, b, m, m1, m2):\n",
    "    if m > m2 :\n",
    "        dic = solve([cir2, y-m*(x-a)-b], [x,y], dict = True)\n",
    "        for i in range(0, len(dic)):\n",
    "            if (dic[i][x] > 0 and dic[i][y] > 0):\n",
    "                real_sol.append(dic[i])\n",
    "                break\n",
    "        return 0\n",
    "    \n",
    "    elif m < m1 :\n",
    "        dic = solve([cir1, y-m*(x-a)-b], [x,y], dict = True)\n",
    "        print(dic)\n",
    "        for i in range(0, len(dic)):\n",
    "            if (dic[i][x] > 0 and dic[i][y] > 0):\n",
    "                real_sol.append(dic[i])\n",
    "                break\n",
    "        return 0\n",
    "\n",
    "    else :\n",
    "        dic = solve([y, y-m*(x-a)-b], [x,y], dict = True)\n",
    "        real_sol.append(dic)\n",
    "        return 1\n",
    "    \n",
    "#user define\n",
    "r1 = 1\n",
    "r2 = 2\n",
    "n1 = 1.48\n",
    "n2 = 1.46\n",
    "ina = 80 #incident angle\n",
    "w = r1 - r2 #diameter of optical fiber \n",
    "L = 320 #distance from source to turn\n",
    "\n",
    "x = Symbol('x')\n",
    "y = Symbol('y')\n",
    "critheta = math.asin(n2/n1)\n",
    "cir1 = x**2 + y**2 - r1**2\n",
    "cir2 = x**2 + y**2 - r2**2\n",
    "real_sol = []\n",
    "\n",
    "#First time\n",
    "a = before_cir()[0]\n",
    "b = before_cir()[1]\n",
    "m = before_cir()[2]\n",
    "if (sol(a, b, m) == 1):\n",
    "    c = real_sol[0][0][x]\n",
    "    d = real_sol[0][0][y]\n",
    "    if (check(a, b, c, d)):\n",
    "        plt.plot((a, b), (c, d))\n",
    "        print(\"Sucess\")\n",
    "    else:\n",
    "        print(\"NO total reflection\")\n",
    "else :\n",
    "    plt.plot((a, b), (c, d))\n",
    "    while (True):\n",
    "        c = real_sol[0][x]\n",
    "        d = real_sol[0][y]\n",
    "        theta = math.acos((c*(c-a)+d*(d-b))/(sqrt(c**2+d**2) * sqrt((c-a)**2 + (d-b)**2)))\n",
    "        m = ( (c-a)*math.sin(-(math.pi-2*theta)) + (d-b)*math.cos(-(math.pi-2*theta)) )/( (c-a)*math.cos(-(math.pi-2*theta)) + (d-b)*(-math.sin(-(math.pi-2*theta))) )\n",
    "        a = real_sol[0][x]\n",
    "        b = real_sol[0][y]\n",
    "        real_sol = []\n",
    "        if (sol_aft(a, b, m, cal_m_bd(c, d, m)[0], cal_m_bd(c, d, m)[1]) == 1) :\n",
    "                c = real_sol[0][x]\n",
    "                d = real_sol[0][y]\n",
    "                plt.plot((a, b), (c, d))\n",
    "                print(\"Sucess\")\n",
    "                break\n",
    "        else :\n",
    "            plt.plot((a, b), (real_sol[0][x], real_sol[0][y]))\n",
    "            \n",
    "\n",
    "#     a = sol_aft(c, d, m, cal_m_bd(c, d, m)[0], cal_m_bd(c, d, m)[1])\n",
    "#     b = sol_aft(c, d, m, cal_m_bd(c, d, m)[0], cal_m_bd(c, d, m)[1])\n",
    "#     if (check(c, d, a, b)):\n",
    "#         theta = math.acos((c*(c-a)+d*(d-b))/(sqrt(c**2+d**2) * sqrt((c-a)**2 + (d-b)**2)))\n",
    "#         m = ( (c-a)*math.sin(-(math.pi-2*theta)) + (d-b)*math.cos(-(math.pi-2*theta)) )/( (c-a)*math.cos(-(math.pi-2*theta)) + (d-b)*(-math.sin(-(math.pi-2*theta))) )\n",
    "#     else :\n",
    "#         print(\"END\")\n",
    "#     plt.plot((a, b), (real_sol[0][x], real_sol[0][y]))\n",
    "#     real_sol = []\n",
    "\n",
    "\n",
    "# plt.plot((a, b), (real_sol[0][x], real_sol[0][y]))\n",
    "# print((a, b), (real_sol[0][x], real_sol[0][y]))\n",
    "\n",
    "# if (sol(a, b, m) == 1):\n",
    "#     print(\"Success\")\n",
    "# elif (len(real_sol) == 0) :\n",
    "#     print(\"No Sol\")\n",
    "# else :\n",
    "#     c = sol(a, b, m)[0][x]\n",
    "#     d = sol(a, b, m)[0][y]\n",
    "#     if (check(a, b, c, d)):\n",
    "#         theta = math.acos((c*(c-a)+d*(d-b))/(sqrt(c**2+d**2) * sqrt((c-a)**2 + (d-b)**2)))\n",
    "#         m = ( (c-a)*math.sin(-(math.pi-2*theta)) + (d-b)*math.cos(-(math.pi-2*theta)) )/( (c-a)*math.cos(-(math.pi-2*theta)) + (d-b)*(-math.sin(-(math.pi-2*theta))) )\n",
    "#         print(m)\n",
    "#     else :\n",
    "#         print(\"??\")\n",
    "    \n",
    "    "
   ]
  },
  {
   "cell_type": "code",
   "execution_count": 30,
   "metadata": {},
   "outputs": [
    {
     "name": "stdout",
     "output_type": "stream",
     "text": [
      "[{x: sqrt(2), y: sqrt(2)}]\n"
     ]
    }
   ],
   "source": [
    "dic = solve([cir1, y-x], [x, y], dict = True)\n",
    "for i in range(2):\n",
    "    test = []\n",
    "    if  (dic[i][x] > 0):\n",
    "        test.append(dic[i])\n",
    "print(test)\n",
    "        \n"
   ]
  },
  {
   "cell_type": "code",
   "execution_count": 52,
   "metadata": {},
   "outputs": [
    {
     "name": "stdout",
     "output_type": "stream",
     "text": [
      "[[{x: -0.321522059127658, y: 0.0}]]\n"
     ]
    }
   ],
   "source": [
    "print(real_sol)"
   ]
  }
 ],
 "metadata": {
  "kernelspec": {
   "display_name": "Python 3",
   "language": "python",
   "name": "python3"
  },
  "language_info": {
   "codemirror_mode": {
    "name": "ipython",
    "version": 3
   },
   "file_extension": ".py",
   "mimetype": "text/x-python",
   "name": "python",
   "nbconvert_exporter": "python",
   "pygments_lexer": "ipython3",
   "version": "3.7.1"
  }
 },
 "nbformat": 4,
 "nbformat_minor": 2
}
