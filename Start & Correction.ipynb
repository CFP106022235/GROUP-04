{
 "cells": [
  {
   "cell_type": "code",
   "execution_count": 2,
   "metadata": {},
   "outputs": [
    {
     "name": "stdout",
     "output_type": "stream",
     "text": [
      "請輸入光密介質折射率1.48\n",
      "請輸入光疏介質折射率1.46\n",
      "全反射臨界角為： 80.56999209210359\n"
     ]
    }
   ],
   "source": [
    "n1=float(input(\"請輸入光密介質折射率\"))\n",
    "n2=float(input(\"請輸入光疏介質折射率\"))\n",
    "import math\n",
    "c=math.degrees(math.asin(n2/n1))\n",
    "print(\"全反射臨界角為：\",c)"
   ]
  },
  {
   "cell_type": "code",
   "execution_count": 13,
   "metadata": {},
   "outputs": [
    {
     "name": "stdout",
     "output_type": "stream",
     "text": [
      "Out Angle: 30.96375653207352 Corrected Length: 6.666666666666667\n"
     ]
    }
   ],
   "source": [
    "import math\n",
    "m=-5/3 #test\n",
    "a=4\n",
    "r2=3\n",
    "w=2\n",
    "(a,0),m #get me\n",
    "nx=0 #new coordinate\n",
    "ny=a-r2 \n",
    "nm=-1/m\n",
    "\n",
    "if nm>0:\n",
    "    OutAngle=math.degrees(math.atan(nm))\n",
    "    CorrectedLength=(w-ny)*(1/math.tan(math.radians(OutAngle)))+w*(1/math.tan(math.radians(OutAngle)))/2*3\n",
    "else:\n",
    "    OutAngle=math.degrees(math.atan(-nm))\n",
    "    CorrectedLength=ny*(1/math.tan(math.radians(OutAngle)))+w*(1/math.tan(math.radians(OutAngle)))/2\n",
    "    \n",
    "print(\"Out Angle:\",OutAngle,\"Corrected Length:\",CorrectedLength)"
   ]
  },
  {
   "cell_type": "code",
   "execution_count": null,
   "metadata": {},
   "outputs": [],
   "source": []
  },
  {
   "cell_type": "code",
   "execution_count": null,
   "metadata": {},
   "outputs": [],
   "source": []
  },
  {
   "cell_type": "code",
   "execution_count": null,
   "metadata": {},
   "outputs": [],
   "source": []
  }
 ],
 "metadata": {
  "kernelspec": {
   "display_name": "Python 3",
   "language": "python",
   "name": "python3"
  },
  "language_info": {
   "codemirror_mode": {
    "name": "ipython",
    "version": 3
   },
   "file_extension": ".py",
   "mimetype": "text/x-python",
   "name": "python",
   "nbconvert_exporter": "python",
   "pygments_lexer": "ipython3",
   "version": "3.7.1"
  }
 },
 "nbformat": 4,
 "nbformat_minor": 2
}
