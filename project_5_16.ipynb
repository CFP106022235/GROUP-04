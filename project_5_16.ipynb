{
 "cells": [
  {
   "cell_type": "code",
   "execution_count": 93,
   "metadata": {},
   "outputs": [
    {
     "name": "stdout",
     "output_type": "stream",
     "text": [
      "(0, 725.068018844456) ,slope= -0.08748866352592401\n"
     ]
    },
    {
     "data": {
      "image/png": "[encoded data removed]",
      "text/plain": [
       "<Figure size 432x288 with 1 Axes>"
      ]
     },
     "metadata": {
      "needs_background": "light"
     },
     "output_type": "display_data"
    },
    {
     "name": "stdout",
     "output_type": "stream",
     "text": [
      "(723.003714197409, 0)\n",
      "Out Angle: 2.498931767892217 Corrected Length: 23532.150033930542\n"
     ]
    }
   ],
   "source": [
    "import math\n",
    "import numpy as np\n",
    "import matplotlib.pyplot as plt\n",
    "from sympy import *\n",
    "R1=1000 #大圓半徑\n",
    "R2=500  #小圓半徑\n",
    "n1 = 1.48\n",
    "n2 = 1\n",
    "critheta = math.asin(n2/n1)\n",
    "Thetas=[]\n",
    "\n",
    "###\n",
    "ina=5#incident angle\n",
    "w=R1-R2#diameter of optical fiber \n",
    "L=6000#distance from source to turn\n",
    "import math \n",
    "x=(L-(w/2)*(1/math.tan(math.radians(ina))))%(w*(1/math.tan(math.radians(ina))))#lastpath\n",
    "num=(L-(w/2)*(1/math.tan(math.radians(ina))))//(w*(1/math.tan(math.radians(ina))))#reflection number\n",
    "if num%2==1:\n",
    "    x=(L-(w/2)*(1/math.tan(math.radians(ina))))%(w*(1/math.tan(math.radians(ina))))#lastpath\n",
    "    y=x*math.tan(math.radians(ina))+R2\n",
    "    m=math.tan(math.radians(ina))\n",
    "    x=0     \n",
    "    print((x,y),\",slope=\",m)\n",
    "else:\n",
    "    x=(L-(w/2)*(1/math.tan(math.radians(ina))))%(w*(1/math.tan(math.radians(ina))))#lastpath\n",
    "    y=w-(x*math.tan(math.radians(ina)))+R2\n",
    "    m=-math.tan(math.radians(ina))\n",
    "    x=0     \n",
    "    print((x,y),\",slope=\",m)\n",
    "###\n",
    "\n",
    "\n",
    "#x=0     #起始座標設定\n",
    "#y=750\n",
    "#m=0.3\n",
    "\n",
    "C1=0    #常數\n",
    "L_L=1\n",
    "B=0\n",
    "\n",
    "n_2=y   #優化設定\n",
    "n_1=x\n",
    "A=[]\n",
    "X=[]\n",
    "Y=[]\n",
    "K=[]\n",
    "Test_x=x\n",
    "Test_y=y\n",
    "t=math.atan(m) #斜率與正向X軸的角度\n",
    "\n",
    "Q=np.linspace(0,1.57,1000) #畫參考光纖管\n",
    "V1_x=1000*np.cos(Q)\n",
    "V1_y=1000*np.sin(Q)\n",
    "V2_x=500*np.cos(Q)\n",
    "V2_y=500*np.sin(Q)\n",
    "\n",
    "while B<=30:  #畫路徑\n",
    "    Test_x=x+L_L*1/((abs(m)**2+1)**(1/2))\n",
    "    Test_y=m*(Test_x-n_1)+n_2\n",
    "    if (Test_y**2+Test_x**2)**(1/2)>R1 or (Test_y**2+Test_x**2)**(1/2)<R2:\n",
    "        L_L=L_L*(-1)\n",
    "    while (y**2+x**2)**(1/2)<=(R1+C1) and (y**2+x**2)**(1/2)>=(R2-C1):\n",
    "        x+=L_L*0.1/((abs(m)**2+1)**(1/2))\n",
    "        y=m*(x-n_1)+n_2\n",
    "        X.append(x)\n",
    "        Y.append(y)\n",
    "        if Y[-1]<0:\n",
    "            break\n",
    "        K.append((y**2+x**2)**(1/2))\n",
    "        if (y**2+x**2)**(1/2)<=R1 and (y**2+x**2)**(1/2)>=R2:\n",
    "            C1=0\n",
    "    p_m=-x/y  #球的平面斜率\n",
    "    n_2=y\n",
    "    n_1=x\n",
    "    C1=10\n",
    "    theta=math.atan((m-p_m)/(1+m*p_m))  #求2斜率者間的角度\n",
    "    T=math.pi/2-abs(theta)\n",
    "    Thetas.append(T)\n",
    "    if Thetas[-1]<critheta:\n",
    "        break\n",
    "    t=t-2*theta\n",
    "    m=math.tan(t)\n",
    "    B+=1\n",
    "    if Y[-1]<0:\n",
    "        break\n",
    "    A.append(m)\n",
    "\n",
    "#print(m)\n",
    "#print(A)\n",
    "#print(T)\n",
    "#print(t)    \n",
    "#print(x,y)\n",
    "#print(X)\n",
    "#print(Y)\n",
    "plt.plot(V1_x,V1_y) #畫圖\n",
    "plt.plot(V2_x,V2_y)\n",
    "plt.plot(X,Y,'.')    \n",
    "plt.show()\n",
    "\n",
    "Last_point=(X[-1],Y[-1])\n",
    "function_line=y-Y[-1]-A[-1]*(x-X[-1])\n",
    "x_n_point=(-Y[-1]/A[-1])+X[-1]\n",
    "new_point=(x_n_point,0)\n",
    "print(new_point)\n",
    "###\n",
    "mLast=A[-1]\n",
    "a=x_n_point\n",
    "r2=R2\n",
    "(a,0),mLast #get me\n",
    "nx=0 #new coordinate\n",
    "ny=a-r2 \n",
    "nm=-1/m\n",
    "\n",
    "if nm>0:\n",
    "    OutAngle=math.degrees(math.atan(nm))\n",
    "    CorrectedLength=(w-ny)*(1/math.tan(math.radians(OutAngle)))+w*(1/math.tan(math.radians(OutAngle)))/2*3\n",
    "else:\n",
    "    OutAngle=math.degrees(math.atan(-nm))\n",
    "    CorrectedLength=ny*(1/math.tan(math.radians(OutAngle)))+w*(1/math.tan(math.radians(OutAngle)))/2\n",
    "    \n",
    "print(\"Out Angle:\",OutAngle,\"Corrected Length:\",CorrectedLength)"
   ]
  },
  {
   "cell_type": "code",
   "execution_count": 94,
   "metadata": {},
   "outputs": [
    {
     "name": "stdout",
     "output_type": "stream",
     "text": [
      "-0.08288354084561433\n"
     ]
    }
   ],
   "source": [
    "print(y)"
   ]
  },
  {
   "cell_type": "code",
   "execution_count": null,
   "metadata": {},
   "outputs": [],
   "source": []
  },
  {
   "cell_type": "code",
   "execution_count": null,
   "metadata": {},
   "outputs": [],
   "source": []
  },
  {
   "cell_type": "code",
   "execution_count": null,
   "metadata": {},
   "outputs": [],
   "source": []
  }
 ],
 "metadata": {
  "kernelspec": {
   "display_name": "Python 3",
   "language": "python",
   "name": "python3"
  },
  "language_info": {
   "codemirror_mode": {
    "name": "ipython",
    "version": 3
   },
   "file_extension": ".py",
   "mimetype": "text/x-python",
   "name": "python",
   "nbconvert_exporter": "python",
   "pygments_lexer": "ipython3",
   "version": "3.7.1"
  }
 },
 "nbformat": 4,
 "nbformat_minor": 2
}
