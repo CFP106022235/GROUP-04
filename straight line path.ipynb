{
 "cells": [
  {
   "cell_type": "code",
   "execution_count": 15,
   "metadata": {},
   "outputs": [
    {
     "name": "stdout",
     "output_type": "stream",
     "text": [
      "(4.1852979625343565, 6.488118023270401) ,slope= -0.8390996311772799\n"
     ]
    }
   ],
   "source": [
    "ina=40#incident angle\n",
    "w=10#diameter of optical fiber \n",
    "L=320#distance from source to turn\n",
    "import math \n",
    "x=(L-(w/2)*(1/math.tan(math.radians(ina))))%(w*(1/math.tan(math.radians(ina))))#lastpath\n",
    "num=(L-(w/2)*(1/math.tan(math.radians(ina))))//(w*(1/math.tan(math.radians(ina))))#reflection number\n",
    "if num%2==1:\n",
    "    x=(L-(w/2)*(1/math.tan(math.radians(ina))))%(w*(1/math.tan(math.radians(ina))))#lastpath\n",
    "    y=x*math.tan(math.radians(ina))\n",
    "    m=math.tan(math.radians(ina))\n",
    "    print((x,y),\",slope=\",m)\n",
    "else:\n",
    "    x=(L-(w/2)*(1/math.tan(math.radians(ina))))%(w*(1/math.tan(math.radians(ina))))#lastpath\n",
    "    y=w-(x*math.tan(math.radians(ina)))\n",
    "    m=-math.tan(math.radians(ina))\n",
    "    print((x,y),\",slope=\",m)"
   ]
  }
 ],
 "metadata": {
  "kernelspec": {
   "display_name": "Python 3",
   "language": "python",
   "name": "python3"
  },
  "language_info": {
   "codemirror_mode": {
    "name": "ipython",
    "version": 3
   },
   "file_extension": ".py",
   "mimetype": "text/x-python",
   "name": "python",
   "nbconvert_exporter": "python",
   "pygments_lexer": "ipython3",
   "version": "3.7.1"
  }
 },
 "nbformat": 4,
 "nbformat_minor": 2
}
