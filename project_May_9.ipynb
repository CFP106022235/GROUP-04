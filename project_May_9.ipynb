{
 "cells": [
  {
   "cell_type": "code",
   "execution_count": 123,
   "metadata": {},
   "outputs": [
    {
     "name": "stdout",
     "output_type": "stream",
     "text": [
      "[(-1.76099845646052, 0.948095162071645), (1.52566302954230, 1.29319461810194)]\n"
     ]
    }
   ],
   "source": [
    "a = solve([cir1, y-0.105*(x)-1.133], [x,y])\n",
    "print(a)"
   ]
  },
  {
   "cell_type": "code",
   "execution_count": 127,
   "metadata": {},
   "outputs": [
    {
     "name": "stdout",
     "output_type": "stream",
     "text": [
      "??\n"
     ]
    }
   ],
   "source": [
    "import math\n",
    "from sympy import *\n",
    "\n",
    "def sol(a, b, m):\n",
    "    if m>0:\n",
    "        dic = solve([cir1, y-m*(x-a)-b], [x,y])\n",
    "        if (dic[0][0]<0):\n",
    "            del dic[0]\n",
    "        return dic\n",
    "        \n",
    "    else :\n",
    "        if len(solve([cir2, y-m*(x-a)-b], [x,y])) != 0:\n",
    "            dic = solve([cir2, y-m*(x-a)-b], [x,y])\n",
    "            if dic[0][0]<0:\n",
    "                del dic[0]\n",
    "            return dic\n",
    "        elif len (solve([cir1, y-m*(x-a)-b], [x,y])) != 0:\n",
    "            dic = solve([cir1, y-m*(x-a)-b], [x,y])\n",
    "            if dic[0][0]<0:\n",
    "                del dic[0]\n",
    "            return dic\n",
    "        else :\n",
    "            return 1\n",
    "            \n",
    "    \n",
    "def check(a, b, c, d) :\n",
    "    theta = math.acos((c*(c-a)+d*(d-b))/(sqrt(c**2+d**2) * sqrt((c-a)**2 + (d-b)**2)))\n",
    "    #print(theta)\n",
    "    if theta >= critheta :\n",
    "        return True\n",
    "    else :\n",
    "        return False\n",
    "\n",
    "def before_cir():\n",
    "\n",
    "    x=(L-(w/2)*(1/math.tan(math.radians(ina))))%(w*(1/math.tan(math.radians(ina))))#lastpath\n",
    "    num=(L-(w/2)*(1/math.tan(math.radians(ina))))//(w*(1/math.tan(math.radians(ina))))#reflection number\n",
    "    if num%2==1:\n",
    "        x=(L-(w/2)*(1/math.tan(math.radians(ina))))%(w*(1/math.tan(math.radians(ina))))#lastpath\n",
    "        y=x*math.tan(math.radians(ina))\n",
    "        m=math.tan(math.radians(ina))\n",
    "        return (0, y+r2, m)\n",
    "    else:\n",
    "        x=(L-(w/2)*(1/math.tan(math.radians(ina))))%(w*(1/math.tan(math.radians(ina))))#lastpath\n",
    "        y=w-(x*math.tan(math.radians(ina)))\n",
    "        m=-math.tan(math.radians(ina))\n",
    "        return (0, y+r2, m)\n",
    "    \n",
    "#user define\n",
    "r1 = 2\n",
    "r2 = 1\n",
    "n1 = 1.48\n",
    "n2 = 1.46\n",
    "ina = 6 #incident angle\n",
    "w = r1 - r2 #diameter of optical fiber \n",
    "L = 320 #distance from source to turn\n",
    "\n",
    "x = Symbol('x')\n",
    "y = Symbol('y')\n",
    "critheta = math.asin(n2/n1)\n",
    "cir1 = y-sqrt(r1**2-x**2)\n",
    "cir2 = y-sqrt(r2**2-x**2)\n",
    "\n",
    "a = before_cir()[0]\n",
    "b = before_cir()[1]\n",
    "m = before_cir()[2]\n",
    "\n",
    "if (sol(a, b, m) == 1):\n",
    "    print(\"Success\")\n",
    "else :\n",
    "    c = sol(a, b, m)[0][0]\n",
    "    d = sol(a, b, m)[0][1]\n",
    "    if (check(a, b, c, d)):\n",
    "        theta = math.acos((c*(c-a)+d*(d-b))/(sqrt(c**2+d**2) * sqrt((c-a)**2 + (d-b)**2)))\n",
    "        m = ( (c-a)*math.sin(-(math.pi-2*theta)) + (d-b)*math.cos(-(math.pi-2*theta)) )/( (c-a)*math.cos(-(math.pi-2*theta)) + (d-b)*(-math.sin(-(math.pi-2*theta))) )\n",
    "        print(m)\n",
    "    else :\n",
    "        print(\"??\")\n",
    "    \n",
    "    "
   ]
  }
 ],
 "metadata": {
  "kernelspec": {
   "display_name": "Python 3",
   "language": "python",
   "name": "python3"
  },
  "language_info": {
   "codemirror_mode": {
    "name": "ipython",
    "version": 3
   },
   "file_extension": ".py",
   "mimetype": "text/x-python",
   "name": "python",
   "nbconvert_exporter": "python",
   "pygments_lexer": "ipython3",
   "version": "3.7.1"
  }
 },
 "nbformat": 4,
 "nbformat_minor": 2
}
